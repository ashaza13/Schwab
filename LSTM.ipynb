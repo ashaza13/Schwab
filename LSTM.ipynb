{
 "cells": [
  {
   "cell_type": "code",
   "execution_count": 1,
   "id": "9f8189fc",
   "metadata": {},
   "outputs": [],
   "source": [
    "import numpy as np\n",
    "import pandas as pd\n",
    "import matplotlib.pyplot as plt\n",
    "from sklearn.preprocessing import MinMaxScaler\n",
    "from keras.models import Sequential\n",
    "from keras.layers import Dense,LSTM,Dropout"
   ]
  },
  {
   "cell_type": "code",
   "execution_count": 2,
   "id": "1a16d099",
   "metadata": {},
   "outputs": [],
   "source": [
    "data = pd.read_csv('train.csv')"
   ]
  },
  {
   "cell_type": "code",
   "execution_count": 3,
   "id": "6c9b8a6f",
   "metadata": {},
   "outputs": [
    {
     "data": {
      "text/html": [
       "<div>\n",
       "<style scoped>\n",
       "    .dataframe tbody tr th:only-of-type {\n",
       "        vertical-align: middle;\n",
       "    }\n",
       "\n",
       "    .dataframe tbody tr th {\n",
       "        vertical-align: top;\n",
       "    }\n",
       "\n",
       "    .dataframe thead th {\n",
       "        text-align: right;\n",
       "    }\n",
       "</style>\n",
       "<table border=\"1\" class=\"dataframe\">\n",
       "  <thead>\n",
       "    <tr style=\"text-align: right;\">\n",
       "      <th></th>\n",
       "      <th>Date</th>\n",
       "      <th>Open</th>\n",
       "      <th>High</th>\n",
       "      <th>Low</th>\n",
       "      <th>Close</th>\n",
       "      <th>Adj Close</th>\n",
       "      <th>Volume</th>\n",
       "      <th>split</th>\n",
       "    </tr>\n",
       "  </thead>\n",
       "  <tbody>\n",
       "    <tr>\n",
       "      <th>0</th>\n",
       "      <td>2022-06-22</td>\n",
       "      <td>57.970001</td>\n",
       "      <td>57.970001</td>\n",
       "      <td>57.970001</td>\n",
       "      <td>57.970001</td>\n",
       "      <td>57.046661</td>\n",
       "      <td>0.0</td>\n",
       "      <td>0.222779</td>\n",
       "    </tr>\n",
       "    <tr>\n",
       "      <th>1</th>\n",
       "      <td>2022-06-23</td>\n",
       "      <td>58.520000</td>\n",
       "      <td>58.520000</td>\n",
       "      <td>58.520000</td>\n",
       "      <td>58.520000</td>\n",
       "      <td>57.587898</td>\n",
       "      <td>0.0</td>\n",
       "      <td>-0.048429</td>\n",
       "    </tr>\n",
       "    <tr>\n",
       "      <th>2</th>\n",
       "      <td>2022-06-24</td>\n",
       "      <td>60.310001</td>\n",
       "      <td>60.310001</td>\n",
       "      <td>60.310001</td>\n",
       "      <td>60.310001</td>\n",
       "      <td>59.349388</td>\n",
       "      <td>0.0</td>\n",
       "      <td>-1.660022</td>\n",
       "    </tr>\n",
       "    <tr>\n",
       "      <th>3</th>\n",
       "      <td>2022-06-27</td>\n",
       "      <td>60.130001</td>\n",
       "      <td>60.130001</td>\n",
       "      <td>60.130001</td>\n",
       "      <td>60.130001</td>\n",
       "      <td>59.172256</td>\n",
       "      <td>0.0</td>\n",
       "      <td>0.859856</td>\n",
       "    </tr>\n",
       "    <tr>\n",
       "      <th>4</th>\n",
       "      <td>2022-06-28</td>\n",
       "      <td>58.919998</td>\n",
       "      <td>58.919998</td>\n",
       "      <td>58.919998</td>\n",
       "      <td>58.919998</td>\n",
       "      <td>57.981525</td>\n",
       "      <td>0.0</td>\n",
       "      <td>0.656817</td>\n",
       "    </tr>\n",
       "  </tbody>\n",
       "</table>\n",
       "</div>"
      ],
      "text/plain": [
       "         Date       Open       High        Low      Close  Adj Close  Volume  \\\n",
       "0  2022-06-22  57.970001  57.970001  57.970001  57.970001  57.046661     0.0   \n",
       "1  2022-06-23  58.520000  58.520000  58.520000  58.520000  57.587898     0.0   \n",
       "2  2022-06-24  60.310001  60.310001  60.310001  60.310001  59.349388     0.0   \n",
       "3  2022-06-27  60.130001  60.130001  60.130001  60.130001  59.172256     0.0   \n",
       "4  2022-06-28  58.919998  58.919998  58.919998  58.919998  57.981525     0.0   \n",
       "\n",
       "      split  \n",
       "0  0.222779  \n",
       "1 -0.048429  \n",
       "2 -1.660022  \n",
       "3  0.859856  \n",
       "4  0.656817  "
      ]
     },
     "execution_count": 3,
     "metadata": {},
     "output_type": "execute_result"
    }
   ],
   "source": [
    "data.head()"
   ]
  },
  {
   "cell_type": "code",
   "execution_count": 4,
   "id": "699661ee",
   "metadata": {},
   "outputs": [
    {
     "name": "stdout",
     "output_type": "stream",
     "text": [
      "<class 'pandas.core.frame.DataFrame'>\n",
      "RangeIndex: 171 entries, 0 to 170\n",
      "Data columns (total 8 columns):\n",
      " #   Column     Non-Null Count  Dtype  \n",
      "---  ------     --------------  -----  \n",
      " 0   Date       171 non-null    object \n",
      " 1   Open       170 non-null    float64\n",
      " 2   High       170 non-null    float64\n",
      " 3   Low        170 non-null    float64\n",
      " 4   Close      170 non-null    float64\n",
      " 5   Adj Close  170 non-null    float64\n",
      " 6   Volume     170 non-null    float64\n",
      " 7   split      171 non-null    float64\n",
      "dtypes: float64(7), object(1)\n",
      "memory usage: 10.8+ KB\n"
     ]
    }
   ],
   "source": [
    "data.info()"
   ]
  },
  {
   "cell_type": "code",
   "execution_count": 5,
   "id": "79b4226f",
   "metadata": {},
   "outputs": [],
   "source": [
    "data[\"Close\"]=pd.to_numeric(data.Close,errors='coerce')\n",
    "data = data.dropna()\n",
    "trainData = data.iloc[:,4:5].values"
   ]
  },
  {
   "cell_type": "code",
   "execution_count": 6,
   "id": "aaca5c75",
   "metadata": {},
   "outputs": [
    {
     "name": "stdout",
     "output_type": "stream",
     "text": [
      "<class 'pandas.core.frame.DataFrame'>\n",
      "Index: 170 entries, 0 to 169\n",
      "Data columns (total 8 columns):\n",
      " #   Column     Non-Null Count  Dtype  \n",
      "---  ------     --------------  -----  \n",
      " 0   Date       170 non-null    object \n",
      " 1   Open       170 non-null    float64\n",
      " 2   High       170 non-null    float64\n",
      " 3   Low        170 non-null    float64\n",
      " 4   Close      170 non-null    float64\n",
      " 5   Adj Close  170 non-null    float64\n",
      " 6   Volume     170 non-null    float64\n",
      " 7   split      170 non-null    float64\n",
      "dtypes: float64(7), object(1)\n",
      "memory usage: 12.0+ KB\n"
     ]
    }
   ],
   "source": [
    "data.info()"
   ]
  },
  {
   "cell_type": "code",
   "execution_count": 7,
   "id": "ff6f06c7",
   "metadata": {},
   "outputs": [
    {
     "data": {
      "text/plain": [
       "(170, 1)"
      ]
     },
     "execution_count": 7,
     "metadata": {},
     "output_type": "execute_result"
    }
   ],
   "source": [
    "sc = MinMaxScaler(feature_range=(0,1))\n",
    "trainData = sc.fit_transform(trainData)\n",
    "trainData.shape"
   ]
  },
  {
   "cell_type": "code",
   "execution_count": 8,
   "id": "310012c2",
   "metadata": {},
   "outputs": [],
   "source": [
    "X_train = []\n",
    "Y_train = []\n",
    "\n",
    "for i in range(60,170):\n",
    "    X_train.append(trainData[i-60:i,0])\n",
    "    Y_train.append(trainData[i,0])\n",
    "    \n",
    "X_train, Y_train = np.array(X_train), np.array(Y_train)"
   ]
  },
  {
   "cell_type": "code",
   "execution_count": 9,
   "id": "1b5dae15",
   "metadata": {},
   "outputs": [
    {
     "data": {
      "text/plain": [
       "(110, 60, 1)"
      ]
     },
     "execution_count": 9,
     "metadata": {},
     "output_type": "execute_result"
    }
   ],
   "source": [
    "X_train = np.reshape(X_train, (X_train.shape[0],X_train.shape[1], 1))\n",
    "X_train.shape"
   ]
  },
  {
   "cell_type": "code",
   "execution_count": 19,
   "id": "214a40b0",
   "metadata": {},
   "outputs": [],
   "source": [
    "model = Sequential()\n",
    "\n",
    "model.add(LSTM(units=100, return_sequences = True, input_shape = (X_train.shape[1], 1)))\n",
    "model.add(Dropout(0.2))\n",
    "\n",
    "model.add(LSTM(units=100, return_sequences=True))\n",
    "model.add(Dropout(0.2))\n",
    "\n",
    "model.add(LSTM(units=100, return_sequences=True))\n",
    "model.add(Dropout(0.2))\n",
    "\n",
    "model.add(LSTM(units=100, return_sequences=False))\n",
    "model.add(Dropout(0.2))\n",
    "\n",
    "model.add(Dense(units=1))\n",
    "model.compile(optimizer='adam',loss='mean_squared_error')"
   ]
  },
  {
   "cell_type": "code",
   "execution_count": 20,
   "id": "eda40a47",
   "metadata": {},
   "outputs": [
    {
     "name": "stdout",
     "output_type": "stream",
     "text": [
      "Epoch 1/20\n",
      "4/4 - 3s - loss: 0.1868 - 3s/epoch - 741ms/step\n",
      "Epoch 2/20\n",
      "4/4 - 0s - loss: 0.0808 - 322ms/epoch - 80ms/step\n",
      "Epoch 3/20\n",
      "4/4 - 0s - loss: 0.0818 - 322ms/epoch - 81ms/step\n",
      "Epoch 4/20\n",
      "4/4 - 0s - loss: 0.0454 - 327ms/epoch - 82ms/step\n",
      "Epoch 5/20\n",
      "4/4 - 0s - loss: 0.0335 - 328ms/epoch - 82ms/step\n",
      "Epoch 6/20\n",
      "4/4 - 0s - loss: 0.0247 - 325ms/epoch - 81ms/step\n",
      "Epoch 7/20\n",
      "4/4 - 0s - loss: 0.0267 - 321ms/epoch - 80ms/step\n",
      "Epoch 8/20\n",
      "4/4 - 0s - loss: 0.0226 - 316ms/epoch - 79ms/step\n",
      "Epoch 9/20\n",
      "4/4 - 0s - loss: 0.0253 - 317ms/epoch - 79ms/step\n",
      "Epoch 10/20\n",
      "4/4 - 0s - loss: 0.0242 - 329ms/epoch - 82ms/step\n",
      "Epoch 11/20\n",
      "4/4 - 0s - loss: 0.0239 - 325ms/epoch - 81ms/step\n",
      "Epoch 12/20\n",
      "4/4 - 0s - loss: 0.0231 - 327ms/epoch - 82ms/step\n",
      "Epoch 13/20\n",
      "4/4 - 0s - loss: 0.0212 - 319ms/epoch - 80ms/step\n",
      "Epoch 14/20\n",
      "4/4 - 0s - loss: 0.0215 - 319ms/epoch - 80ms/step\n",
      "Epoch 15/20\n",
      "4/4 - 0s - loss: 0.0227 - 317ms/epoch - 79ms/step\n",
      "Epoch 16/20\n",
      "4/4 - 0s - loss: 0.0229 - 332ms/epoch - 83ms/step\n",
      "Epoch 17/20\n",
      "4/4 - 0s - loss: 0.0203 - 326ms/epoch - 82ms/step\n",
      "Epoch 18/20\n",
      "4/4 - 0s - loss: 0.0219 - 314ms/epoch - 78ms/step\n",
      "Epoch 19/20\n",
      "4/4 - 0s - loss: 0.0211 - 319ms/epoch - 80ms/step\n",
      "Epoch 20/20\n",
      "4/4 - 0s - loss: 0.0193 - 318ms/epoch - 79ms/step\n"
     ]
    }
   ],
   "source": [
    "hist = model.fit(X_train, Y_train, epochs=20, batch_size=32, verbose=2)"
   ]
  },
  {
   "cell_type": "code",
   "execution_count": 21,
   "id": "5079dfea",
   "metadata": {},
   "outputs": [
    {
     "data": {
      "image/png": "[encoded data removed]",
      "text/plain": [
       "<Figure size 640x480 with 1 Axes>"
      ]
     },
     "metadata": {},
     "output_type": "display_data"
    }
   ],
   "source": [
    "plt.plot(hist.history['loss'])\n",
    "plt.title('Training model loss')\n",
    "plt.ylabel('loss')\n",
    "plt.xlabel('epoch')\n",
    "plt.legend(['train'], loc='upper left')\n",
    "plt.show()"
   ]
  },
  {
   "cell_type": "code",
   "execution_count": 22,
   "id": "d0d82d6f",
   "metadata": {
    "scrolled": true
   },
   "outputs": [
    {
     "data": {
      "text/plain": [
       "(21, 60, 1)"
      ]
     },
     "execution_count": 22,
     "metadata": {},
     "output_type": "execute_result"
    }
   ],
   "source": [
    "testData = pd.read_csv('test.csv')\n",
    "testData[\"Close\"] = pd.to_numeric(testData.Close, errors='coerce')\n",
    "testData = testData.dropna()\n",
    "testData = testData.iloc[:,4:5]\n",
    "y_test = testData.iloc[60:,0:].values\n",
    "inputClosing = testData.iloc[:,0:].values\n",
    "inputClosing_scaled = sc.transform(inputClosing)\n",
    "inputClosing_scaled.shape\n",
    "x_test = []\n",
    "length = len(testData)\n",
    "timestep = 60\n",
    "\n",
    "for i in range(timestep, length):\n",
    "    x_test.append(inputClosing_scaled[i-timestep:i,0])\n",
    "    \n",
    "x_test = np.array(x_test)\n",
    "x_test = np.reshape(x_test, (x_test.shape[0], x_test.shape[1],1))\n",
    "x_test.shape"
   ]
  },
  {
   "cell_type": "code",
   "execution_count": 23,
   "id": "d0debadf",
   "metadata": {
    "scrolled": true
   },
   "outputs": [
    {
     "name": "stdout",
     "output_type": "stream",
     "text": [
      "1/1 [==============================] - 1s 628ms/step\n"
     ]
    },
    {
     "data": {
      "text/plain": [
       "array([[0.5187049 ],\n",
       "       [0.5275252 ],\n",
       "       [0.53566444],\n",
       "       [0.54266995],\n",
       "       [0.54828084],\n",
       "       [0.55247325],\n",
       "       [0.5553713 ],\n",
       "       [0.55757725],\n",
       "       [0.5596544 ],\n",
       "       [0.5621966 ],\n",
       "       [0.56562746],\n",
       "       [0.5701867 ],\n",
       "       [0.57586014],\n",
       "       [0.58223367],\n",
       "       [0.58915764],\n",
       "       [0.5966549 ],\n",
       "       [0.6045867 ],\n",
       "       [0.6130004 ],\n",
       "       [0.62228644],\n",
       "       [0.63285553],\n",
       "       [0.64493567]], dtype=float32)"
      ]
     },
     "execution_count": 23,
     "metadata": {},
     "output_type": "execute_result"
    }
   ],
   "source": [
    "y_pred = model.predict(x_test)\n",
    "y_pred"
   ]
  },
  {
   "cell_type": "code",
   "execution_count": 25,
   "id": "d76ecc94",
   "metadata": {},
   "outputs": [],
   "source": [
    "predicted_price = sc.inverse_transform(y_pred)"
   ]
  },
  {
   "cell_type": "code",
   "execution_count": 26,
   "id": "5917d656",
   "metadata": {},
   "outputs": [
    {
     "data": {
      "image/png": "[encoded data removed]",
      "text/plain": [
       "<Figure size 640x480 with 1 Axes>"
      ]
     },
     "metadata": {},
     "output_type": "display_data"
    }
   ],
   "source": [
    "plt.plot(y_test, color = 'red', label = 'Actual Stock Price')\n",
    "plt.plot(predicted_price, color = 'green', label = 'Predicted Stock Price')\n",
    "plt.title('Schwab stock price prediction')\n",
    "plt.xlabel('Time')\n",
    "plt.ylabel('Stock Price')\n",
    "plt.legend()\n",
    "plt.show()"
   ]
  },
  {
   "cell_type": "code",
   "execution_count": null,
   "id": "e0837e6d",
   "metadata": {},
   "outputs": [],
   "source": []
  }
 ],
 "metadata": {
  "kernelspec": {
   "display_name": "Python 3 (ipykernel)",
   "language": "python",
   "name": "python3"
  },
  "language_info": {
   "codemirror_mode": {
    "name": "ipython",
    "version": 3
   },
   "file_extension": ".py",
   "mimetype": "text/x-python",
   "name": "python",
   "nbconvert_exporter": "python",
   "pygments_lexer": "ipython3",
   "version": "3.11.3"
  }
 },
 "nbformat": 4,
 "nbformat_minor": 5
}
