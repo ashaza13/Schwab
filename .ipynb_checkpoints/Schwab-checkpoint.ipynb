{
 "cells": [
  {
   "cell_type": "code",
   "execution_count": 1,
   "metadata": {},
   "outputs": [],
   "source": [
    "import numpy as np \n",
    "import pandas as pd \n",
    "import matplotlib.pyplot as plt \n",
    "from sklearn.preprocessing import MinMaxScaler\n",
    "from keras.models import Sequential\n",
    "from keras.layers import Dense,LSTM,Dropout"
   ]
  },
  {
   "cell_type": "code",
   "execution_count": 2,
   "metadata": {},
   "outputs": [
    {
     "data": {
      "text/html": [
       "<div>\n",
       "<style scoped>\n",
       "    .dataframe tbody tr th:only-of-type {\n",
       "        vertical-align: middle;\n",
       "    }\n",
       "\n",
       "    .dataframe tbody tr th {\n",
       "        vertical-align: top;\n",
       "    }\n",
       "\n",
       "    .dataframe thead th {\n",
       "        text-align: right;\n",
       "    }\n",
       "</style>\n",
       "<table border=\"1\" class=\"dataframe\">\n",
       "  <thead>\n",
       "    <tr style=\"text-align: right;\">\n",
       "      <th></th>\n",
       "      <th>Date</th>\n",
       "      <th>Open</th>\n",
       "      <th>High</th>\n",
       "      <th>Low</th>\n",
       "      <th>Close</th>\n",
       "      <th>Volume</th>\n",
       "    </tr>\n",
       "  </thead>\n",
       "  <tbody>\n",
       "    <tr>\n",
       "      <th>0</th>\n",
       "      <td>1/3/2012</td>\n",
       "      <td>325.25</td>\n",
       "      <td>332.83</td>\n",
       "      <td>324.97</td>\n",
       "      <td>663.59</td>\n",
       "      <td>7,380,500</td>\n",
       "    </tr>\n",
       "    <tr>\n",
       "      <th>1</th>\n",
       "      <td>1/4/2012</td>\n",
       "      <td>331.27</td>\n",
       "      <td>333.87</td>\n",
       "      <td>329.08</td>\n",
       "      <td>666.45</td>\n",
       "      <td>5,749,400</td>\n",
       "    </tr>\n",
       "    <tr>\n",
       "      <th>2</th>\n",
       "      <td>1/5/2012</td>\n",
       "      <td>329.83</td>\n",
       "      <td>330.75</td>\n",
       "      <td>326.89</td>\n",
       "      <td>657.21</td>\n",
       "      <td>6,590,300</td>\n",
       "    </tr>\n",
       "    <tr>\n",
       "      <th>3</th>\n",
       "      <td>1/6/2012</td>\n",
       "      <td>328.34</td>\n",
       "      <td>328.77</td>\n",
       "      <td>323.68</td>\n",
       "      <td>648.24</td>\n",
       "      <td>5,405,900</td>\n",
       "    </tr>\n",
       "    <tr>\n",
       "      <th>4</th>\n",
       "      <td>1/9/2012</td>\n",
       "      <td>322.04</td>\n",
       "      <td>322.29</td>\n",
       "      <td>309.46</td>\n",
       "      <td>620.76</td>\n",
       "      <td>11,688,800</td>\n",
       "    </tr>\n",
       "  </tbody>\n",
       "</table>\n",
       "</div>"
      ],
      "text/plain": [
       "       Date    Open    High     Low   Close      Volume\n",
       "0  1/3/2012  325.25  332.83  324.97  663.59   7,380,500\n",
       "1  1/4/2012  331.27  333.87  329.08  666.45   5,749,400\n",
       "2  1/5/2012  329.83  330.75  326.89  657.21   6,590,300\n",
       "3  1/6/2012  328.34  328.77  323.68  648.24   5,405,900\n",
       "4  1/9/2012  322.04  322.29  309.46  620.76  11,688,800"
      ]
     },
     "execution_count": 2,
     "metadata": {},
     "output_type": "execute_result"
    }
   ],
   "source": [
    "data = pd.read_csv('Google_train_data.csv')\n",
    "data.head()"
   ]
  },
  {
   "cell_type": "code",
   "execution_count": 3,
   "metadata": {},
   "outputs": [
    {
     "name": "stdout",
     "output_type": "stream",
     "text": [
      "<class 'pandas.core.frame.DataFrame'>\n",
      "RangeIndex: 1258 entries, 0 to 1257\n",
      "Data columns (total 6 columns):\n",
      " #   Column  Non-Null Count  Dtype  \n",
      "---  ------  --------------  -----  \n",
      " 0   Date    1258 non-null   object \n",
      " 1   Open    1258 non-null   float64\n",
      " 2   High    1258 non-null   float64\n",
      " 3   Low     1258 non-null   float64\n",
      " 4   Close   1258 non-null   object \n",
      " 5   Volume  1258 non-null   object \n",
      "dtypes: float64(3), object(3)\n",
      "memory usage: 59.1+ KB\n"
     ]
    }
   ],
   "source": [
    "data.info()"
   ]
  },
  {
   "cell_type": "code",
   "execution_count": 4,
   "metadata": {},
   "outputs": [],
   "source": [
    "data[\"Close\"]=pd.to_numeric(data.Close,errors='coerce')\n",
    "data = data.dropna()\n",
    "trainData = data.iloc[:,4:5].values"
   ]
  },
  {
   "cell_type": "code",
   "execution_count": 5,
   "metadata": {},
   "outputs": [
    {
     "name": "stdout",
     "output_type": "stream",
     "text": [
      "<class 'pandas.core.frame.DataFrame'>\n",
      "Index: 1149 entries, 0 to 1257\n",
      "Data columns (total 6 columns):\n",
      " #   Column  Non-Null Count  Dtype  \n",
      "---  ------  --------------  -----  \n",
      " 0   Date    1149 non-null   object \n",
      " 1   Open    1149 non-null   float64\n",
      " 2   High    1149 non-null   float64\n",
      " 3   Low     1149 non-null   float64\n",
      " 4   Close   1149 non-null   float64\n",
      " 5   Volume  1149 non-null   object \n",
      "dtypes: float64(4), object(2)\n",
      "memory usage: 62.8+ KB\n"
     ]
    }
   ],
   "source": [
    "data.info()"
   ]
  },
  {
   "cell_type": "code",
   "execution_count": 6,
   "metadata": {},
   "outputs": [
    {
     "data": {
      "text/plain": [
       "(1149, 1)"
      ]
     },
     "execution_count": 6,
     "metadata": {},
     "output_type": "execute_result"
    }
   ],
   "source": [
    "sc = MinMaxScaler(feature_range=(0,1))\n",
    "trainData = sc.fit_transform(trainData)\n",
    "trainData.shape"
   ]
  },
  {
   "cell_type": "code",
   "execution_count": 7,
   "metadata": {},
   "outputs": [],
   "source": [
    "X_train = []\n",
    "y_train = []\n",
    "\n",
    "for i in range (60,1149): #60 : timestep // 1149 : length of the data\n",
    "    X_train.append(trainData[i-60:i,0]) \n",
    "    y_train.append(trainData[i,0])\n",
    "\n",
    "X_train,y_train = np.array(X_train),np.array(y_train)"
   ]
  },
  {
   "cell_type": "code",
   "execution_count": 8,
   "metadata": {},
   "outputs": [
    {
     "data": {
      "text/plain": [
       "(1089, 60, 1)"
      ]
     },
     "execution_count": 8,
     "metadata": {},
     "output_type": "execute_result"
    }
   ],
   "source": [
    "X_train = np.reshape(X_train,(X_train.shape[0],X_train.shape[1],1)) #adding the batch_size axis\n",
    "X_train.shape"
   ]
  },
  {
   "cell_type": "code",
   "execution_count": 9,
   "metadata": {},
   "outputs": [],
   "source": [
    "model = Sequential()\n",
    "\n",
    "model.add(LSTM(units=100, return_sequences = True, input_shape =(X_train.shape[1],1)))\n",
    "model.add(Dropout(0.2))\n",
    "\n",
    "model.add(LSTM(units=100, return_sequences = True))\n",
    "model.add(Dropout(0.2))\n",
    "\n",
    "model.add(LSTM(units=100, return_sequences = True))\n",
    "model.add(Dropout(0.2))\n",
    "\n",
    "model.add(LSTM(units=100, return_sequences = False))\n",
    "model.add(Dropout(0.2))\n",
    "\n",
    "model.add(Dense(units =1))\n",
    "model.compile(optimizer='adam',loss=\"mean_squared_error\")"
   ]
  },
  {
   "cell_type": "code",
   "execution_count": 10,
   "metadata": {},
   "outputs": [
    {
     "name": "stdout",
     "output_type": "stream",
     "text": [
      "Epoch 1/20\n",
      "35/35 - 6s - loss: 0.0301 - 6s/epoch - 159ms/step\n",
      "Epoch 2/20\n",
      "35/35 - 3s - loss: 0.0128 - 3s/epoch - 89ms/step\n",
      "Epoch 3/20\n",
      "35/35 - 3s - loss: 0.0111 - 3s/epoch - 86ms/step\n",
      "Epoch 4/20\n",
      "35/35 - 3s - loss: 0.0089 - 3s/epoch - 89ms/step\n",
      "Epoch 5/20\n",
      "35/35 - 3s - loss: 0.0071 - 3s/epoch - 90ms/step\n",
      "Epoch 6/20\n",
      "35/35 - 3s - loss: 0.0072 - 3s/epoch - 89ms/step\n",
      "Epoch 7/20\n",
      "35/35 - 3s - loss: 0.0085 - 3s/epoch - 89ms/step\n",
      "Epoch 8/20\n",
      "35/35 - 3s - loss: 0.0100 - 3s/epoch - 90ms/step\n",
      "Epoch 9/20\n",
      "35/35 - 3s - loss: 0.0066 - 3s/epoch - 89ms/step\n",
      "Epoch 10/20\n",
      "35/35 - 3s - loss: 0.0064 - 3s/epoch - 89ms/step\n",
      "Epoch 11/20\n",
      "35/35 - 3s - loss: 0.0053 - 3s/epoch - 90ms/step\n",
      "Epoch 12/20\n",
      "35/35 - 3s - loss: 0.0066 - 3s/epoch - 93ms/step\n",
      "Epoch 13/20\n",
      "35/35 - 3s - loss: 0.0051 - 3s/epoch - 90ms/step\n",
      "Epoch 14/20\n",
      "35/35 - 3s - loss: 0.0053 - 3s/epoch - 91ms/step\n",
      "Epoch 15/20\n",
      "35/35 - 3s - loss: 0.0050 - 3s/epoch - 91ms/step\n",
      "Epoch 16/20\n",
      "35/35 - 3s - loss: 0.0050 - 3s/epoch - 89ms/step\n",
      "Epoch 17/20\n",
      "35/35 - 3s - loss: 0.0047 - 3s/epoch - 90ms/step\n",
      "Epoch 18/20\n",
      "35/35 - 3s - loss: 0.0046 - 3s/epoch - 90ms/step\n",
      "Epoch 19/20\n",
      "35/35 - 3s - loss: 0.0063 - 3s/epoch - 90ms/step\n",
      "Epoch 20/20\n",
      "35/35 - 3s - loss: 0.0047 - 3s/epoch - 89ms/step\n"
     ]
    }
   ],
   "source": [
    "hist = model.fit(X_train, y_train, epochs = 20, batch_size = 32, verbose=2)"
   ]
  },
  {
   "cell_type": "code",
   "execution_count": 11,
   "metadata": {},
   "outputs": [
    {
     "data": {
      "image/png": "[encoded data removed]",
      "text/plain": [
       "<Figure size 640x480 with 1 Axes>"
      ]
     },
     "metadata": {},
     "output_type": "display_data"
    }
   ],
   "source": [
    "plt.plot(hist.history['loss'])\n",
    "plt.title('Training model loss')\n",
    "plt.ylabel('loss')\n",
    "plt.xlabel('epoch')\n",
    "plt.legend(['train'], loc='upper left')\n",
    "plt.show()"
   ]
  },
  {
   "cell_type": "code",
   "execution_count": 13,
   "metadata": {},
   "outputs": [
    {
     "data": {
      "text/plain": [
       "(192, 60, 1)"
      ]
     },
     "execution_count": 13,
     "metadata": {},
     "output_type": "execute_result"
    }
   ],
   "source": [
    "testData = pd.read_csv('Google_test_data.csv')\n",
    "testData[\"Close\"]=pd.to_numeric(testData.Close,errors='coerce')\n",
    "testData = testData.dropna()\n",
    "testData = testData.iloc[:,4:5]\n",
    "y_test = testData.iloc[60:,0:].values \n",
    "#input array for the model\n",
    "inputClosing = testData.iloc[:,0:].values \n",
    "inputClosing_scaled = sc.transform(inputClosing)\n",
    "inputClosing_scaled.shape\n",
    "X_test = []\n",
    "length = len(testData)\n",
    "timestep = 60\n",
    "for i in range(timestep,length):  \n",
    "    X_test.append(inputClosing_scaled[i-timestep:i,0])\n",
    "X_test = np.array(X_test)\n",
    "X_test = np.reshape(X_test,(X_test.shape[0],X_test.shape[1],1))\n",
    "X_test.shape"
   ]
  },
  {
   "cell_type": "code",
   "execution_count": 14,
   "metadata": {},
   "outputs": [
    {
     "name": "stdout",
     "output_type": "stream",
     "text": [
      "6/6 [==============================] - 1s 26ms/step\n"
     ]
    },
    {
     "data": {
      "text/plain": [
       "array([[1.0942817 ],\n",
       "       [1.0995269 ],\n",
       "       [1.1125836 ],\n",
       "       [1.1309818 ],\n",
       "       [1.1451238 ],\n",
       "       [1.1437738 ],\n",
       "       [1.127417  ],\n",
       "       [1.1053522 ],\n",
       "       [1.0907137 ],\n",
       "       [1.0867803 ],\n",
       "       [1.0810878 ],\n",
       "       [1.0712276 ],\n",
       "       [1.0623863 ],\n",
       "       [1.054493  ],\n",
       "       [1.0541029 ],\n",
       "       [1.0607677 ],\n",
       "       [1.0813524 ],\n",
       "       [1.1125712 ],\n",
       "       [1.1471153 ],\n",
       "       [1.1796608 ],\n",
       "       [1.1903639 ],\n",
       "       [1.1817962 ],\n",
       "       [1.1545203 ],\n",
       "       [1.1185645 ],\n",
       "       [1.0875301 ],\n",
       "       [1.071216  ],\n",
       "       [1.0698495 ],\n",
       "       [1.0738626 ],\n",
       "       [1.0712767 ],\n",
       "       [1.0636141 ],\n",
       "       [1.0536612 ],\n",
       "       [1.0415133 ],\n",
       "       [1.0224063 ],\n",
       "       [0.9983391 ],\n",
       "       [0.98945373],\n",
       "       [1.0019214 ],\n",
       "       [1.0282084 ],\n",
       "       [1.0572305 ],\n",
       "       [1.0830431 ],\n",
       "       [1.0945936 ],\n",
       "       [1.1039582 ],\n",
       "       [1.1153198 ],\n",
       "       [1.1293525 ],\n",
       "       [1.1425565 ],\n",
       "       [1.1505003 ],\n",
       "       [1.1485032 ],\n",
       "       [1.134865  ],\n",
       "       [1.1223791 ],\n",
       "       [1.1179621 ],\n",
       "       [1.123841  ],\n",
       "       [1.1385343 ],\n",
       "       [1.1495262 ],\n",
       "       [1.1530777 ],\n",
       "       [1.1498499 ],\n",
       "       [1.147255  ],\n",
       "       [1.1428428 ],\n",
       "       [1.134011  ],\n",
       "       [1.1295354 ],\n",
       "       [1.1391027 ],\n",
       "       [1.1590979 ],\n",
       "       [1.1874293 ],\n",
       "       [1.2204223 ],\n",
       "       [1.2424842 ],\n",
       "       [1.2438219 ],\n",
       "       [1.2268772 ],\n",
       "       [1.2008957 ],\n",
       "       [1.18211   ],\n",
       "       [1.175668  ],\n",
       "       [1.1799521 ],\n",
       "       [1.1879205 ],\n",
       "       [1.1961584 ],\n",
       "       [1.2014381 ],\n",
       "       [1.1986966 ],\n",
       "       [1.1928401 ],\n",
       "       [1.1874881 ],\n",
       "       [1.1858919 ],\n",
       "       [1.1883442 ],\n",
       "       [1.1942208 ],\n",
       "       [1.2069958 ],\n",
       "       [1.2259008 ],\n",
       "       [1.2497244 ],\n",
       "       [1.2718313 ],\n",
       "       [1.2830371 ],\n",
       "       [1.281728  ],\n",
       "       [1.2808627 ],\n",
       "       [1.2895044 ],\n",
       "       [1.3055754 ],\n",
       "       [1.3204138 ],\n",
       "       [1.3284826 ],\n",
       "       [1.3288547 ],\n",
       "       [1.3277988 ],\n",
       "       [1.3349781 ],\n",
       "       [1.3514701 ],\n",
       "       [1.3636672 ],\n",
       "       [1.3624778 ],\n",
       "       [1.3474144 ],\n",
       "       [1.3221731 ],\n",
       "       [1.2938491 ],\n",
       "       [1.2712705 ],\n",
       "       [1.2646989 ],\n",
       "       [1.2750759 ],\n",
       "       [1.2971628 ],\n",
       "       [1.3248875 ],\n",
       "       [1.348379  ],\n",
       "       [1.3616111 ],\n",
       "       [1.3624945 ],\n",
       "       [1.3558835 ],\n",
       "       [1.3474188 ],\n",
       "       [1.344202  ],\n",
       "       [1.3477231 ],\n",
       "       [1.3569012 ],\n",
       "       [1.3704714 ],\n",
       "       [1.3843096 ],\n",
       "       [1.3983625 ],\n",
       "       [1.4149222 ],\n",
       "       [1.4283845 ],\n",
       "       [1.4375775 ],\n",
       "       [1.4444423 ],\n",
       "       [1.453512  ],\n",
       "       [1.4331012 ],\n",
       "       [1.3804103 ],\n",
       "       [1.3133218 ],\n",
       "       [1.2594633 ],\n",
       "       [1.23239   ],\n",
       "       [1.2273269 ],\n",
       "       [1.2343076 ],\n",
       "       [1.2450548 ],\n",
       "       [1.2560194 ],\n",
       "       [1.2567527 ],\n",
       "       [1.2446856 ],\n",
       "       [1.237803  ],\n",
       "       [1.2463412 ],\n",
       "       [1.2627249 ],\n",
       "       [1.2723701 ],\n",
       "       [1.2741864 ],\n",
       "       [1.2712536 ],\n",
       "       [1.2637647 ],\n",
       "       [1.2520803 ],\n",
       "       [1.2393608 ],\n",
       "       [1.2239437 ],\n",
       "       [1.2085592 ],\n",
       "       [1.192619  ],\n",
       "       [1.160625  ],\n",
       "       [1.1213362 ],\n",
       "       [1.0837072 ],\n",
       "       [1.0561314 ],\n",
       "       [1.047625  ],\n",
       "       [1.0607665 ],\n",
       "       [1.0882041 ],\n",
       "       [1.1191254 ],\n",
       "       [1.147978  ],\n",
       "       [1.1695236 ],\n",
       "       [1.1834128 ],\n",
       "       [1.193015  ],\n",
       "       [1.198998  ],\n",
       "       [1.2036409 ],\n",
       "       [1.209722  ],\n",
       "       [1.2146779 ],\n",
       "       [1.2089021 ],\n",
       "       [1.1910994 ],\n",
       "       [1.1662239 ],\n",
       "       [1.1428574 ],\n",
       "       [1.1308775 ],\n",
       "       [1.1351155 ],\n",
       "       [1.154197  ],\n",
       "       [1.1829939 ],\n",
       "       [1.208824  ],\n",
       "       [1.2269516 ],\n",
       "       [1.2404007 ],\n",
       "       [1.2510483 ],\n",
       "       [1.2587283 ],\n",
       "       [1.2641796 ],\n",
       "       [1.2680173 ],\n",
       "       [1.2679656 ],\n",
       "       [1.2640431 ],\n",
       "       [1.2533702 ],\n",
       "       [1.2406104 ],\n",
       "       [1.2320707 ],\n",
       "       [1.2273287 ],\n",
       "       [1.2238861 ],\n",
       "       [1.2532978 ],\n",
       "       [1.3098342 ],\n",
       "       [1.3686742 ],\n",
       "       [1.4084946 ],\n",
       "       [1.4207453 ],\n",
       "       [1.4060916 ],\n",
       "       [1.3636476 ],\n",
       "       [1.3133452 ],\n",
       "       [1.2722279 ],\n",
       "       [1.2567436 ],\n",
       "       [1.2610632 ],\n",
       "       [1.271904  ]], dtype=float32)"
      ]
     },
     "execution_count": 14,
     "metadata": {},
     "output_type": "execute_result"
    }
   ],
   "source": [
    "y_pred = model.predict(X_test)\n",
    "y_pred"
   ]
  },
  {
   "cell_type": "code",
   "execution_count": 16,
   "metadata": {},
   "outputs": [],
   "source": [
    "predicted_price = sc.inverse_transform(y_pred)"
   ]
  },
  {
   "cell_type": "code",
   "execution_count": 17,
   "metadata": {},
   "outputs": [
    {
     "data": {
      "image/png": "[encoded data removed]",
      "text/plain": [
       "<Figure size 432x288 with 1 Axes>"
      ]
     },
     "metadata": {
      "needs_background": "light"
     },
     "output_type": "display_data"
    }
   ],
   "source": [
    "plt.plot(y_test, color = 'red', label = 'Actual Stock Price')\n",
    "plt.plot(predicted_price, color = 'green', label = 'Predicted Stock Price')\n",
    "plt.title('Google stock price prediction')\n",
    "plt.xlabel('Time')\n",
    "plt.ylabel('Stock Price')\n",
    "plt.legend()\n",
    "plt.show()"
   ]
  },
  {
   "cell_type": "code",
   "execution_count": null,
   "metadata": {},
   "outputs": [],
   "source": []
  }
 ],
 "metadata": {
  "kernelspec": {
   "display_name": "Python 3 (ipykernel)",
   "language": "python",
   "name": "python3"
  },
  "language_info": {
   "codemirror_mode": {
    "name": "ipython",
    "version": 3
   },
   "file_extension": ".py",
   "mimetype": "text/x-python",
   "name": "python",
   "nbconvert_exporter": "python",
   "pygments_lexer": "ipython3",
   "version": "3.11.3"
  }
 },
 "nbformat": 4,
 "nbformat_minor": 4
}
